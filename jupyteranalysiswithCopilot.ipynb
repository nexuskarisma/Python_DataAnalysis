{
 "cells": [
  {
   "cell_type": "code",
   "execution_count": null,
   "metadata": {},
   "outputs": [],
   "source": [
    "# 这是我第一次在jupyter notebook上用copilot生成的代码\n",
    "# 生成的代码是一个简单的python程序，用于将一个字符串转换为大写\n",
    "# 生成的代码是一个函数，函数名为to_upper，参数为一个字符串，返回值为一个字符串\n",
    "# 数据分析的流程是：数据采集、数据处理、数据分析、数据可视化、数据挖掘、数据建模、数据评估、数据应用"
   ]
  },
  {
   "cell_type": "code",
   "execution_count": null,
   "metadata": {},
   "outputs": [],
   "source": [
    "import seaborn as sns\n",
    "\n",
    "import matplotlib.pyplot as plt"
   ]
  },
  {
   "cell_type": "markdown",
   "metadata": {},
   "source": [
    "**一般数据分析的流程是**"
   ]
  }
 ],
 "metadata": {
  "kernelspec": {
   "display_name": "Python 3",
   "language": "python",
   "name": "python3"
  },
  "language_info": {
   "name": "python",
   "version": "3.12.1"
  }
 },
 "nbformat": 4,
 "nbformat_minor": 2
}
