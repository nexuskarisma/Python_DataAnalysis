{
 "cells": [
  {
   "cell_type": "markdown",
   "metadata": {},
   "source": [
    "<center>\n",
    "    <img src=\"https://cf-courses-data.s3.us.cloud-object-storage.appdomain.cloud/IBMDeveloperSkillsNetwork-DS0105EN-SkillsNetwork/labs/Module2/images/SN_web_lightmode.png\" width=\"300\" alt=\"cognitiveclass.ai logo\">\n",
    "</center>\n"
   ]
  },
  {
   "cell_type": "markdown",
   "metadata": {},
   "source": [
    "#### Add your code below following the instructions given in the course\n"
   ]
  },
  {
   "cell_type": "markdown",
   "metadata": {},
   "source": [
    "**hello！i am a student from China，and i am a high school student.**"
   ]
  },
  {
   "cell_type": "markdown",
   "metadata": {},
   "source": [
    "# 我是一个来自中国的学生，并且也是一名就读高中的学生"
   ]
  },
  {
   "cell_type": "markdown",
   "metadata": {},
   "source": [
    "# 我其实之前就自学过jupyter notebook ，那个时候我自学数据分析课程，也是通过一些在线的课程学习"
   ]
  },
  {
   "cell_type": "markdown",
   "metadata": {},
   "source": [
    "**I actually learned jupyter notebook myself before. At that time, I learned data analysis courses by myself and also learned through some online courses**"
   ]
  },
  {
   "cell_type": "markdown",
   "metadata": {},
   "source": [
    "# 然后我的github仓库链接是：https://github.com/nexuskarisma/Python_DataAnalysis"
   ]
  },
  {
   "cell_type": "markdown",
   "metadata": {},
   "source": [
    "**The above is my personal github repository and also stores some of the cases I've done**"
   ]
  },
  {
   "cell_type": "markdown",
   "metadata": {},
   "source": [
    "# 期末作业  Final Assignment"
   ]
  },
  {
   "cell_type": "markdown",
   "metadata": {},
   "source": [
    "## 引言 introduction"
   ]
  },
  {
   "cell_type": "markdown",
   "metadata": {},
   "source": [
    "**我认为数据科学最重要的编程语言是python，python是我自学的一门编程语言，虽然不是很厉害，但是基础还是有的**"
   ]
  },
  {
   "cell_type": "markdown",
   "metadata": {},
   "source": [
    "**I think the most important programming language for data science is Python, which is a programming language that I taught myself, although it is not very powerful, but I still have the foundation**"
   ]
  },
  {
   "cell_type": "markdown",
   "metadata": {},
   "source": [
    "我认为在数据分析，数据科学中，最重要的几个常用库是numpy，pandas，还有一些做假设检验的ttest，ztest方法，以及一些数据可视化的库比如seaborn，Matplotlib。"
   ]
  },
  {
   "cell_type": "markdown",
   "metadata": {},
   "source": [
    "In my opinion, in data analysis and data science, the most important common libraries are numpy, pandas, some ttest and ztest methods for hypothesis testing, and some data visualization libraries such as seaborn and matplotlib."
   ]
  },
  {
   "cell_type": "markdown",
   "metadata": {},
   "source": [
    "# Data Science Tools Table\n",
    "\n",
    "| Category         | Tool Name      | Language/Env | Description                                                                 | Official Link                          |\n",
    "|------------------|---------------|--------------|-----------------------------------------------------------------------------|----------------------------------------|\n",
    "| **Data Processing** | pandas       | Python       | Powerful data structures and analysis tools (DataFrame operations)          | [pandas](https://pandas.pydata.org/)   |\n",
    "|                  | dplyr        | R            | Data manipulation grammar (filter/select/mutate, etc.)                      | [dplyr](https://dplyr.tidyverse.org/)  |\n",
    "| **Numerical Computing** | NumPy     | Python       | Fundamental library for multidimensional arrays and matrix operations        | [NumPy](https://numpy.org/)            |\n",
    "|                  | SciPy        | Python       | Scientific computing algorithms (linear algebra, Fourier transforms, etc.)  | [SciPy](https://scipy.org/)            |\n",
    "| **Visualization** | Matplotlib   | Python       | Foundational 2D/3D plotting library                                         | [Matplotlib](https://matplotlib.org/)  |\n",
    "|                  | ggplot2      | R            | Grammar of graphics-based visualization system                               | [ggplot2](https://ggplot2.tidyverse.org/) |\n",
    "| **Machine Learning** | scikit-learn | Python       | Classical ML algorithms (classification, regression, clustering, etc.)      | [scikit-learn](https://scikit-learn.org/) |\n",
    "|                  | TensorFlow   | Python       | Deep learning framework developed by Google                                 | [TensorFlow](https://www.tensorflow.org/) |\n",
    "| **Big Data**     | PySpark      | Python       | Python API for Apache Spark (distributed data processing)                   | [PySpark](https://spark.apache.org/docs/latest/api/python/) |\n",
    "|                  | Dask         | Python       | Parallel computing framework (pandas-like but distributed)                  | [Dask](https://dask.org/)              |\n",
    "| **Database Interaction** | SQLAlchemy | Python       | ORM tool for database operations                                            | [SQLAlchemy](https://www.sqlalchemy.org/) |\n",
    "|                  | RPostgreSQL  | R            | PostgreSQL database connector for R                                          | [RPostgreSQL](https://cran.r-project.org/web/packages/RPostgreSQL/) |\n",
    "| **Development Environments** | Jupyter | Cross-language | Interactive notebook environment                                           | [Jupyter](https://jupyter.org/)        |\n",
    "|                  | RStudio      | R            | Dedicated IDE for R programming                                              | [RStudio](https://www.rstudio.com/)    |\n"
   ]
  },
  {
   "cell_type": "markdown",
   "metadata": {},
   "source": [
    "# Arithmetic Expression Examples\n",
    "\n",
    "## Basic Operations\n",
    "| Expression          | Description                  | Example Code (Python) | Result  |\n",
    "|---------------------|------------------------------|-----------------------|---------|\n",
    "| `a + b`            | Addition                     | `3 + 5`               | `8`     |\n",
    "| `a - b`            | Subtraction                  | `7 - 2`               | `5`     |\n",
    "| `a * b`            | Multiplication               | `4 * 6`               | `24`    |\n",
    "| `a / b`            | Division (floating-point)    | `10 / 3`              | `3.333` |\n",
    "| `a // b`           | Integer division (floor)     | `10 // 3`             | `3`     |\n",
    "| `a % b`            | Modulus (remainder)          | `10 % 3`              | `1`     |\n",
    "| `a ** b`           | Exponentiation               | `2 ** 4`              | `16`    |\n",
    "\n",
    "\n"
   ]
  },
  {
   "cell_type": "markdown",
   "metadata": {},
   "source": [
    "## Advanced Examples\n",
    "```python\n",
    "# Compound expressions\n",
    "print((5 + 3) * 2)      # Output: 16 (parentheses control order)\n",
    "print(4 ** 0.5)         # Output: 2.0 (square root)\n",
    "print(10 // 3 + 10 % 3) # Output: 4 (quotient + remainder)"
   ]
  },
  {
   "cell_type": "code",
   "execution_count": null,
   "metadata": {},
   "outputs": [],
   "source": []
  },
  {
   "cell_type": "markdown",
   "metadata": {},
   "source": [
    "乘法和加法单元格 Multiplication and addition cells"
   ]
  },
  {
   "cell_type": "code",
   "execution_count": 2,
   "metadata": {},
   "outputs": [
    {
     "data": {
      "text/plain": [
       "120"
      ]
     },
     "execution_count": 2,
     "metadata": {},
     "output_type": "execute_result"
    }
   ],
   "source": [
    "(25+5)*4"
   ]
  },
  {
   "cell_type": "markdown",
   "metadata": {},
   "source": [
    "创建一个代码单元格，将分钟转换为小时 Create a code cell that converts minutes to hours"
   ]
  },
  {
   "cell_type": "code",
   "execution_count": 7,
   "metadata": {},
   "outputs": [
    {
     "name": "stdin",
     "output_type": "stream",
     "text": [
      "请输入分钟(整数) Enter minute(integer)： 120\n"
     ]
    },
    {
     "name": "stdout",
     "output_type": "stream",
     "text": [
      "120 转换为小时为Convert to hours： 2.0\n"
     ]
    }
   ],
   "source": [
    "minutes = input(\"请输入分钟(整数) Enter minute(integer)：\")\n",
    "minutes_int=int(minutes)\n",
    "#print(minutes_int)\n",
    "minutes_int_tohour = minutes_int / 60\n",
    "print(minutes_int,\"转换为小时为Convert to hours：\",minutes_int_tohour)"
   ]
  },
  {
   "cell_type": "code",
   "execution_count": null,
   "metadata": {},
   "outputs": [],
   "source": []
  },
  {
   "cell_type": "markdown",
   "metadata": {},
   "source": [
    "# Objectives\n",
    "\n",
    "## Primary Goals\n",
    "- [x] Master basic arithmetic operations (`+`, `-`, `*`, `/`)  \n",
    "- [ ] Understand operator precedence rules  \n",
    "- [ ] Learn to debug expression errors  \n",
    "\n",
    "## Learning Targets\n",
    "1. **Fundamentals**  \n",
    "   - [ ] Integer vs floating-point division  \n",
    "   - [ ] Modulus operator applications  \n",
    "\n",
    "2. **Advanced Concepts**  \n",
    "   - [ ] Compound expression optimization  \n",
    "   - [ ] Scientific notation handling  \n",
    "\n",
    "## Success Metrics\n",
    "✓ 100% accuracy in simple expressions  \n",
    "✓ Correctly evaluate nested expressions  \n",
    "✓ Explain precedence rules in own words  \n",
    "\n",
    "> 🎯 **Pro Tip**: Use `()` to explicitly declare evaluation order, even when not required."
   ]
  },
  {
   "cell_type": "code",
   "execution_count": null,
   "metadata": {},
   "outputs": [],
   "source": []
  },
  {
   "cell_type": "markdown",
   "metadata": {},
   "source": [
    "---\n",
    "**Author**: Nexus Luo \n",
    "**Last Updated**: 2025-07-11\n",
    "---"
   ]
  },
  {
   "cell_type": "code",
   "execution_count": null,
   "metadata": {},
   "outputs": [],
   "source": []
  }
 ],
 "metadata": {
  "kernelspec": {
   "display_name": "Python 3 (ipykernel)",
   "language": "python",
   "name": "python3"
  },
  "language_info": {
   "codemirror_mode": {
    "name": "ipython",
    "version": 3
   },
   "file_extension": ".py",
   "mimetype": "text/x-python",
   "name": "python",
   "nbconvert_exporter": "python",
   "pygments_lexer": "ipython3",
   "version": "3.12.8"
  }
 },
 "nbformat": 4,
 "nbformat_minor": 4
}
